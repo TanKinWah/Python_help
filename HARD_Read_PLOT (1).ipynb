{
 "cells": [
  {
   "cell_type": "markdown",
   "metadata": {},
   "source": [
    "# Bem vindo ao Workshop - Python\n",
    "\n"
   ]
  },
  {
   "cell_type": "markdown",
   "metadata": {},
   "source": [
    "# Inadimplência da carteira de crédito com recursos livres \n",
    "\n",
    "Conceito: Percentual da carteira de crédito livre do Sistema Financeiro Nacional com pelo menos uma parcela com atraso superior a 90 dias. Não inclui operações referenciadas em taxas regulamentadas, operações vinculadas a recursos do Banco Nacional de Desenvolvimento Econômico e Social (BNDES) ou quaisquer outras lastreadas em recursos compulsórios ou governamentais.\n",
    "\n",
    "Fonte: Banco Central do Brasil – Departamento de Estatísticas\n",
    "\n",
    "Para mais informações sobre a série, clique no link abaixo:\n",
    "\n",
    "*[Fonte Banco central]* [Acessar Crédito pessoal total](https://dadosabertos.bcb.gov.br/dataset/21120-inadimplencia-da-carteira-de-credito-com-recursos-livres---pessoas-fisicas---credito-pessoal-) \n",
    "\n",
    "*[Fonte Banco central]* [Acessar Crédito pessoal consignado total](https://dadosabertos.bcb.gov.br/dataset/21119-inadimplencia-da-carteira-de-credito-com-recursos-livres---pessoas-fisicas---credito-pessoal-) \n",
    "\n",
    "*[Fonte Banco central]* [Acessar Crédito pessoal não consignado](https://dadosabertos.bcb.gov.br/dataset/21114-inadimplencia-da-carteira-de-credito-com-recursos-livres---pessoas-fisicas---credito-pessoal-) "
   ]
  },
  {
   "cell_type": "code",
   "execution_count": 22,
   "metadata": {},
   "outputs": [
    {
     "data": {
      "text/html": [
       "<div>\n",
       "<style scoped>\n",
       "    .dataframe tbody tr th:only-of-type {\n",
       "        vertical-align: middle;\n",
       "    }\n",
       "\n",
       "    .dataframe tbody tr th {\n",
       "        vertical-align: top;\n",
       "    }\n",
       "\n",
       "    .dataframe thead th {\n",
       "        text-align: right;\n",
       "    }\n",
       "</style>\n",
       "<table border=\"1\" class=\"dataframe\">\n",
       "  <thead>\n",
       "    <tr style=\"text-align: right;\">\n",
       "      <th></th>\n",
       "      <th>data</th>\n",
       "      <th>Credito pessoal total</th>\n",
       "      <th>Credito pessoal consignado</th>\n",
       "      <th>Credito pessoal não consignado</th>\n",
       "    </tr>\n",
       "  </thead>\n",
       "  <tbody>\n",
       "    <tr>\n",
       "      <th>0</th>\n",
       "      <td>01/03/2011</td>\n",
       "      <td>4,07</td>\n",
       "      <td>2,73</td>\n",
       "      <td>6,9</td>\n",
       "    </tr>\n",
       "    <tr>\n",
       "      <th>1</th>\n",
       "      <td>01/04/2011</td>\n",
       "      <td>4,14</td>\n",
       "      <td>2,73</td>\n",
       "      <td>7,09</td>\n",
       "    </tr>\n",
       "    <tr>\n",
       "      <th>2</th>\n",
       "      <td>01/05/2011</td>\n",
       "      <td>4,28</td>\n",
       "      <td>2,76</td>\n",
       "      <td>7,44</td>\n",
       "    </tr>\n",
       "    <tr>\n",
       "      <th>3</th>\n",
       "      <td>01/06/2011</td>\n",
       "      <td>4,25</td>\n",
       "      <td>2,74</td>\n",
       "      <td>7,38</td>\n",
       "    </tr>\n",
       "    <tr>\n",
       "      <th>4</th>\n",
       "      <td>01/07/2011</td>\n",
       "      <td>4,34</td>\n",
       "      <td>2,76</td>\n",
       "      <td>7,62</td>\n",
       "    </tr>\n",
       "    <tr>\n",
       "      <th>...</th>\n",
       "      <td>...</td>\n",
       "      <td>...</td>\n",
       "      <td>...</td>\n",
       "      <td>...</td>\n",
       "    </tr>\n",
       "    <tr>\n",
       "      <th>98</th>\n",
       "      <td>01/05/2019</td>\n",
       "      <td>3,54</td>\n",
       "      <td>2,24</td>\n",
       "      <td>7,27</td>\n",
       "    </tr>\n",
       "    <tr>\n",
       "      <th>99</th>\n",
       "      <td>01/06/2019</td>\n",
       "      <td>3,57</td>\n",
       "      <td>2,23</td>\n",
       "      <td>7,43</td>\n",
       "    </tr>\n",
       "    <tr>\n",
       "      <th>100</th>\n",
       "      <td>01/07/2019</td>\n",
       "      <td>3,59</td>\n",
       "      <td>2,23</td>\n",
       "      <td>7,52</td>\n",
       "    </tr>\n",
       "    <tr>\n",
       "      <th>101</th>\n",
       "      <td>01/08/2019</td>\n",
       "      <td>3,5</td>\n",
       "      <td>2,2</td>\n",
       "      <td>7,28</td>\n",
       "    </tr>\n",
       "    <tr>\n",
       "      <th>102</th>\n",
       "      <td>01/09/2019</td>\n",
       "      <td>3,6</td>\n",
       "      <td>2,26</td>\n",
       "      <td>7,49</td>\n",
       "    </tr>\n",
       "  </tbody>\n",
       "</table>\n",
       "<p>103 rows × 4 columns</p>\n",
       "</div>"
      ],
      "text/plain": [
       "           data Credito pessoal total Credito pessoal consignado  \\\n",
       "0    01/03/2011                  4,07                       2,73   \n",
       "1    01/04/2011                  4,14                       2,73   \n",
       "2    01/05/2011                  4,28                       2,76   \n",
       "3    01/06/2011                  4,25                       2,74   \n",
       "4    01/07/2011                  4,34                       2,76   \n",
       "..          ...                   ...                        ...   \n",
       "98   01/05/2019                  3,54                       2,24   \n",
       "99   01/06/2019                  3,57                       2,23   \n",
       "100  01/07/2019                  3,59                       2,23   \n",
       "101  01/08/2019                   3,5                        2,2   \n",
       "102  01/09/2019                   3,6                       2,26   \n",
       "\n",
       "    Credito pessoal não consignado  \n",
       "0                              6,9  \n",
       "1                             7,09  \n",
       "2                             7,44  \n",
       "3                             7,38  \n",
       "4                             7,62  \n",
       "..                             ...  \n",
       "98                            7,27  \n",
       "99                            7,43  \n",
       "100                           7,52  \n",
       "101                           7,28  \n",
       "102                           7,49  \n",
       "\n",
       "[103 rows x 4 columns]"
      ]
     },
     "execution_count": 22,
     "metadata": {},
     "output_type": "execute_result"
    }
   ],
   "source": [
    "#pip install pandas\n",
    "\n",
    "import pandas as pd\n",
    "\n",
    "uri = \"https://raw.githubusercontent.com/TanKinWah/Arquivos_python/master/Inadimplencia_cc.csv\"\n",
    "\n",
    "dataframe = pd.read_csv(uri, encoding='iso-8859-1', delimiter = ';')\n",
    "dataframe\n",
    "\n",
    "#Um data frame é semelhante a uma matriz mas as suas colunas têm nomes e \n",
    "#podem conter dados de tipo diferente. \n",
    "#Um data frame pode ser visto como uma tabela de uma base de dados,\n",
    "#em que cada linha corresponde a um registo (linha) da tabela.\n"
   ]
  },
  {
   "cell_type": "code",
   "execution_count": 23,
   "metadata": {},
   "outputs": [
    {
     "data": {
      "text/plain": [
       "array([[ 0,  1,  2,  3,  4],\n",
       "       [ 5,  6,  7,  8,  9],\n",
       "       [10, 11, 12, 13, 14],\n",
       "       [15, 16, 17, 18, 19],\n",
       "       [20, 21, 22, 23, 24]])"
      ]
     },
     "execution_count": 23,
     "metadata": {},
     "output_type": "execute_result"
    }
   ],
   "source": [
    "#MATRIZ\n",
    "a = np.arange(0, 25)\n",
    "a=a.reshape(5,5)\n",
    "a"
   ]
  },
  {
   "cell_type": "code",
   "execution_count": 24,
   "metadata": {},
   "outputs": [
    {
     "data": {
      "text/html": [
       "<div>\n",
       "<style scoped>\n",
       "    .dataframe tbody tr th:only-of-type {\n",
       "        vertical-align: middle;\n",
       "    }\n",
       "\n",
       "    .dataframe tbody tr th {\n",
       "        vertical-align: top;\n",
       "    }\n",
       "\n",
       "    .dataframe thead th {\n",
       "        text-align: right;\n",
       "    }\n",
       "</style>\n",
       "<table border=\"1\" class=\"dataframe\">\n",
       "  <thead>\n",
       "    <tr style=\"text-align: right;\">\n",
       "      <th></th>\n",
       "      <th>Data</th>\n",
       "      <th>CP Total</th>\n",
       "      <th>CP Consignado</th>\n",
       "      <th>CP Não Consignado</th>\n",
       "    </tr>\n",
       "  </thead>\n",
       "  <tbody>\n",
       "    <tr>\n",
       "      <th>0</th>\n",
       "      <td>01/03/2011</td>\n",
       "      <td>4,07</td>\n",
       "      <td>2,73</td>\n",
       "      <td>6,9</td>\n",
       "    </tr>\n",
       "    <tr>\n",
       "      <th>1</th>\n",
       "      <td>01/04/2011</td>\n",
       "      <td>4,14</td>\n",
       "      <td>2,73</td>\n",
       "      <td>7,09</td>\n",
       "    </tr>\n",
       "    <tr>\n",
       "      <th>2</th>\n",
       "      <td>01/05/2011</td>\n",
       "      <td>4,28</td>\n",
       "      <td>2,76</td>\n",
       "      <td>7,44</td>\n",
       "    </tr>\n",
       "    <tr>\n",
       "      <th>3</th>\n",
       "      <td>01/06/2011</td>\n",
       "      <td>4,25</td>\n",
       "      <td>2,74</td>\n",
       "      <td>7,38</td>\n",
       "    </tr>\n",
       "    <tr>\n",
       "      <th>4</th>\n",
       "      <td>01/07/2011</td>\n",
       "      <td>4,34</td>\n",
       "      <td>2,76</td>\n",
       "      <td>7,62</td>\n",
       "    </tr>\n",
       "    <tr>\n",
       "      <th>...</th>\n",
       "      <td>...</td>\n",
       "      <td>...</td>\n",
       "      <td>...</td>\n",
       "      <td>...</td>\n",
       "    </tr>\n",
       "    <tr>\n",
       "      <th>98</th>\n",
       "      <td>01/05/2019</td>\n",
       "      <td>3,54</td>\n",
       "      <td>2,24</td>\n",
       "      <td>7,27</td>\n",
       "    </tr>\n",
       "    <tr>\n",
       "      <th>99</th>\n",
       "      <td>01/06/2019</td>\n",
       "      <td>3,57</td>\n",
       "      <td>2,23</td>\n",
       "      <td>7,43</td>\n",
       "    </tr>\n",
       "    <tr>\n",
       "      <th>100</th>\n",
       "      <td>01/07/2019</td>\n",
       "      <td>3,59</td>\n",
       "      <td>2,23</td>\n",
       "      <td>7,52</td>\n",
       "    </tr>\n",
       "    <tr>\n",
       "      <th>101</th>\n",
       "      <td>01/08/2019</td>\n",
       "      <td>3,5</td>\n",
       "      <td>2,2</td>\n",
       "      <td>7,28</td>\n",
       "    </tr>\n",
       "    <tr>\n",
       "      <th>102</th>\n",
       "      <td>01/09/2019</td>\n",
       "      <td>3,6</td>\n",
       "      <td>2,26</td>\n",
       "      <td>7,49</td>\n",
       "    </tr>\n",
       "  </tbody>\n",
       "</table>\n",
       "<p>103 rows × 4 columns</p>\n",
       "</div>"
      ],
      "text/plain": [
       "           Data CP Total CP Consignado CP Não Consignado\n",
       "0    01/03/2011     4,07          2,73               6,9\n",
       "1    01/04/2011     4,14          2,73              7,09\n",
       "2    01/05/2011     4,28          2,76              7,44\n",
       "3    01/06/2011     4,25          2,74              7,38\n",
       "4    01/07/2011     4,34          2,76              7,62\n",
       "..          ...      ...           ...               ...\n",
       "98   01/05/2019     3,54          2,24              7,27\n",
       "99   01/06/2019     3,57          2,23              7,43\n",
       "100  01/07/2019     3,59          2,23              7,52\n",
       "101  01/08/2019      3,5           2,2              7,28\n",
       "102  01/09/2019      3,6          2,26              7,49\n",
       "\n",
       "[103 rows x 4 columns]"
      ]
     },
     "execution_count": 24,
     "metadata": {},
     "output_type": "execute_result"
    }
   ],
   "source": [
    "dataframe.columns =[\"Data\", \"CP Total\", \"CP Consignado\", \"CP Não Consignado\"]\n",
    "dataframe"
   ]
  },
  {
   "cell_type": "markdown",
   "metadata": {},
   "source": [
    "**[PANDAS Documentação]** -> [Clique aqui](https://pandas.pydata.org/pandas-docs/stable/reference/api/pandas.DataFrame.html) "
   ]
  },
  {
   "cell_type": "code",
   "execution_count": 25,
   "metadata": {},
   "outputs": [],
   "source": [
    "# Boa sorte "
   ]
  },
  {
   "cell_type": "code",
   "execution_count": 26,
   "metadata": {},
   "outputs": [
    {
     "data": {
      "text/plain": [
       "0      4,07\n",
       "1      4,14\n",
       "2      4,28\n",
       "3      4,25\n",
       "4      4,34\n",
       "       ... \n",
       "98     3,54\n",
       "99     3,57\n",
       "100    3,59\n",
       "101     3,5\n",
       "102     3,6\n",
       "Name: CP Total, Length: 103, dtype: object"
      ]
     },
     "execution_count": 26,
     "metadata": {},
     "output_type": "execute_result"
    }
   ],
   "source": [
    "dataframe[\"CP Total\"]"
   ]
  },
  {
   "cell_type": "code",
   "execution_count": 27,
   "metadata": {},
   "outputs": [
    {
     "data": {
      "text/plain": [
       "<bound method Series.mean of 0      4,07\n",
       "1      4,14\n",
       "2      4,28\n",
       "3      4,25\n",
       "4      4,34\n",
       "       ... \n",
       "98     3,54\n",
       "99     3,57\n",
       "100    3,59\n",
       "101     3,5\n",
       "102     3,6\n",
       "Name: CP Total, Length: 103, dtype: object>"
      ]
     },
     "execution_count": 27,
     "metadata": {},
     "output_type": "execute_result"
    }
   ],
   "source": [
    "dataframe[\"CP Total\"].mean"
   ]
  },
  {
   "cell_type": "code",
   "execution_count": 28,
   "metadata": {},
   "outputs": [
    {
     "data": {
      "text/plain": [
       "'3,41'"
      ]
     },
     "execution_count": 28,
     "metadata": {},
     "output_type": "execute_result"
    }
   ],
   "source": [
    "#Minimo no Dataframe -> CP Total\n",
    "dataframe[\"CP Total\"].min()"
   ]
  },
  {
   "cell_type": "code",
   "execution_count": 29,
   "metadata": {},
   "outputs": [
    {
     "data": {
      "text/plain": [
       "'4,91'"
      ]
     },
     "execution_count": 29,
     "metadata": {},
     "output_type": "execute_result"
    }
   ],
   "source": [
    "#Maximo no Dataframe -> CP Total\n",
    "dataframe[\"CP Total\"].max()"
   ]
  },
  {
   "cell_type": "code",
   "execution_count": 30,
   "metadata": {
    "scrolled": true
   },
   "outputs": [
    {
     "data": {
      "text/plain": [
       "count      103\n",
       "unique      74\n",
       "top       3,82\n",
       "freq         5\n",
       "Name: CP Total, dtype: object"
      ]
     },
     "execution_count": 30,
     "metadata": {},
     "output_type": "execute_result"
    }
   ],
   "source": [
    "#Descrição dataframe -> CP Total\n",
    "dataframe[\"CP Total\"].describe()\n",
    "#Falar para o pessoal apagar"
   ]
  },
  {
   "cell_type": "code",
   "execution_count": 31,
   "metadata": {},
   "outputs": [
    {
     "data": {
      "text/html": [
       "<div>\n",
       "<style scoped>\n",
       "    .dataframe tbody tr th:only-of-type {\n",
       "        vertical-align: middle;\n",
       "    }\n",
       "\n",
       "    .dataframe tbody tr th {\n",
       "        vertical-align: top;\n",
       "    }\n",
       "\n",
       "    .dataframe thead th {\n",
       "        text-align: right;\n",
       "    }\n",
       "</style>\n",
       "<table border=\"1\" class=\"dataframe\">\n",
       "  <thead>\n",
       "    <tr style=\"text-align: right;\">\n",
       "      <th></th>\n",
       "      <th>Data</th>\n",
       "      <th>CP Total</th>\n",
       "      <th>CP Consignado</th>\n",
       "      <th>CP Não Consignado</th>\n",
       "    </tr>\n",
       "  </thead>\n",
       "  <tbody>\n",
       "    <tr>\n",
       "      <th>count</th>\n",
       "      <td>103</td>\n",
       "      <td>103</td>\n",
       "      <td>103</td>\n",
       "      <td>103</td>\n",
       "    </tr>\n",
       "    <tr>\n",
       "      <th>unique</th>\n",
       "      <td>103</td>\n",
       "      <td>74</td>\n",
       "      <td>46</td>\n",
       "      <td>89</td>\n",
       "    </tr>\n",
       "    <tr>\n",
       "      <th>top</th>\n",
       "      <td>01/01/2015</td>\n",
       "      <td>3,82</td>\n",
       "      <td>2,27</td>\n",
       "      <td>7,51</td>\n",
       "    </tr>\n",
       "    <tr>\n",
       "      <th>freq</th>\n",
       "      <td>1</td>\n",
       "      <td>5</td>\n",
       "      <td>5</td>\n",
       "      <td>3</td>\n",
       "    </tr>\n",
       "  </tbody>\n",
       "</table>\n",
       "</div>"
      ],
      "text/plain": [
       "              Data CP Total CP Consignado CP Não Consignado\n",
       "count          103      103           103               103\n",
       "unique         103       74            46                89\n",
       "top     01/01/2015     3,82          2,27              7,51\n",
       "freq             1        5             5                 3"
      ]
     },
     "execution_count": 31,
     "metadata": {},
     "output_type": "execute_result"
    }
   ],
   "source": [
    "dataframe.describe()"
   ]
  },
  {
   "cell_type": "code",
   "execution_count": 32,
   "metadata": {},
   "outputs": [
    {
     "data": {
      "text/html": [
       "<div>\n",
       "<style scoped>\n",
       "    .dataframe tbody tr th:only-of-type {\n",
       "        vertical-align: middle;\n",
       "    }\n",
       "\n",
       "    .dataframe tbody tr th {\n",
       "        vertical-align: top;\n",
       "    }\n",
       "\n",
       "    .dataframe thead th {\n",
       "        text-align: right;\n",
       "    }\n",
       "</style>\n",
       "<table border=\"1\" class=\"dataframe\">\n",
       "  <thead>\n",
       "    <tr style=\"text-align: right;\">\n",
       "      <th></th>\n",
       "      <th>Data</th>\n",
       "      <th>CP Total</th>\n",
       "      <th>CP Consignado</th>\n",
       "      <th>CP Não Consignado</th>\n",
       "    </tr>\n",
       "  </thead>\n",
       "  <tbody>\n",
       "    <tr>\n",
       "      <th>95</th>\n",
       "      <td>01/02/2019</td>\n",
       "      <td>3,41</td>\n",
       "      <td>2,23</td>\n",
       "      <td>6,88</td>\n",
       "    </tr>\n",
       "    <tr>\n",
       "      <th>97</th>\n",
       "      <td>01/04/2019</td>\n",
       "      <td>3,43</td>\n",
       "      <td>2,2</td>\n",
       "      <td>7,02</td>\n",
       "    </tr>\n",
       "    <tr>\n",
       "      <th>96</th>\n",
       "      <td>01/03/2019</td>\n",
       "      <td>3,46</td>\n",
       "      <td>2,23</td>\n",
       "      <td>7,05</td>\n",
       "    </tr>\n",
       "    <tr>\n",
       "      <th>92</th>\n",
       "      <td>01/11/2018</td>\n",
       "      <td>3,5</td>\n",
       "      <td>2,29</td>\n",
       "      <td>7,11</td>\n",
       "    </tr>\n",
       "    <tr>\n",
       "      <th>90</th>\n",
       "      <td>01/09/2018</td>\n",
       "      <td>3,5</td>\n",
       "      <td>2,32</td>\n",
       "      <td>7,09</td>\n",
       "    </tr>\n",
       "    <tr>\n",
       "      <th>...</th>\n",
       "      <td>...</td>\n",
       "      <td>...</td>\n",
       "      <td>...</td>\n",
       "      <td>...</td>\n",
       "    </tr>\n",
       "    <tr>\n",
       "      <th>14</th>\n",
       "      <td>01/05/2012</td>\n",
       "      <td>4,78</td>\n",
       "      <td>2,88</td>\n",
       "      <td>8,65</td>\n",
       "    </tr>\n",
       "    <tr>\n",
       "      <th>16</th>\n",
       "      <td>01/07/2012</td>\n",
       "      <td>4,8</td>\n",
       "      <td>2,74</td>\n",
       "      <td>9,08</td>\n",
       "    </tr>\n",
       "    <tr>\n",
       "      <th>10</th>\n",
       "      <td>01/01/2012</td>\n",
       "      <td>4,85</td>\n",
       "      <td>2,89</td>\n",
       "      <td>8,77</td>\n",
       "    </tr>\n",
       "    <tr>\n",
       "      <th>18</th>\n",
       "      <td>01/09/2012</td>\n",
       "      <td>4,88</td>\n",
       "      <td>2,77</td>\n",
       "      <td>9,19</td>\n",
       "    </tr>\n",
       "    <tr>\n",
       "      <th>17</th>\n",
       "      <td>01/08/2012</td>\n",
       "      <td>4,91</td>\n",
       "      <td>2,81</td>\n",
       "      <td>9,3</td>\n",
       "    </tr>\n",
       "  </tbody>\n",
       "</table>\n",
       "<p>103 rows × 4 columns</p>\n",
       "</div>"
      ],
      "text/plain": [
       "          Data CP Total CP Consignado CP Não Consignado\n",
       "95  01/02/2019     3,41          2,23              6,88\n",
       "97  01/04/2019     3,43           2,2              7,02\n",
       "96  01/03/2019     3,46          2,23              7,05\n",
       "92  01/11/2018      3,5          2,29              7,11\n",
       "90  01/09/2018      3,5          2,32              7,09\n",
       "..         ...      ...           ...               ...\n",
       "14  01/05/2012     4,78          2,88              8,65\n",
       "16  01/07/2012      4,8          2,74              9,08\n",
       "10  01/01/2012     4,85          2,89              8,77\n",
       "18  01/09/2012     4,88          2,77              9,19\n",
       "17  01/08/2012     4,91          2,81               9,3\n",
       "\n",
       "[103 rows x 4 columns]"
      ]
     },
     "execution_count": 32,
     "metadata": {},
     "output_type": "execute_result"
    }
   ],
   "source": [
    "#Ordenando na coluna CP Total\n",
    "dataframe.sort_values([\"CP Total\"])"
   ]
  },
  {
   "cell_type": "code",
   "execution_count": 33,
   "metadata": {},
   "outputs": [
    {
     "data": {
      "text/plain": [
       "<matplotlib.axes._subplots.AxesSubplot at 0xc1caa58>"
      ]
     },
     "execution_count": 33,
     "metadata": {},
     "output_type": "execute_result"
    }
   ],
   "source": [
    "teste = pd.Series(np.random.randn(1000),\n",
    "        index=pd.date_range('1/1/2000', periods=1000))\n",
    "teste = teste.cumsum()\n",
    "teste.plot()"
   ]
  },
  {
   "cell_type": "code",
   "execution_count": 34,
   "metadata": {},
   "outputs": [
    {
     "name": "stdout",
     "output_type": "stream",
     "text": [
      "Data                 object\n",
      "CP Total             object\n",
      "CP Consignado        object\n",
      "CP Não Consignado    object\n",
      "dtype: object\n"
     ]
    }
   ],
   "source": [
    "print (dataframe.dtypes)"
   ]
  },
  {
   "cell_type": "code",
   "execution_count": 35,
   "metadata": {},
   "outputs": [],
   "source": [
    "dataframe[\"CP Total\"]= dataframe[\"CP Total\"].str.replace(',', \".\").astype(float)\n",
    "dataframe[\"CP Não Consignado\"]= dataframe[\"CP Não Consignado\"].str.replace(',', \".\").astype(float)"
   ]
  },
  {
   "cell_type": "code",
   "execution_count": 36,
   "metadata": {},
   "outputs": [
    {
     "name": "stdout",
     "output_type": "stream",
     "text": [
      "Data                  object\n",
      "CP Total             float64\n",
      "CP Consignado         object\n",
      "CP Não Consignado    float64\n",
      "dtype: object\n"
     ]
    }
   ],
   "source": [
    "print (dataframe.dtypes)"
   ]
  },
  {
   "cell_type": "code",
   "execution_count": 37,
   "metadata": {},
   "outputs": [
    {
     "data": {
      "text/html": [
       "<div>\n",
       "<style scoped>\n",
       "    .dataframe tbody tr th:only-of-type {\n",
       "        vertical-align: middle;\n",
       "    }\n",
       "\n",
       "    .dataframe tbody tr th {\n",
       "        vertical-align: top;\n",
       "    }\n",
       "\n",
       "    .dataframe thead th {\n",
       "        text-align: right;\n",
       "    }\n",
       "</style>\n",
       "<table border=\"1\" class=\"dataframe\">\n",
       "  <thead>\n",
       "    <tr style=\"text-align: right;\">\n",
       "      <th></th>\n",
       "      <th>Data</th>\n",
       "      <th>CP Total</th>\n",
       "      <th>CP Consignado</th>\n",
       "      <th>CP Não Consignado</th>\n",
       "    </tr>\n",
       "  </thead>\n",
       "  <tbody>\n",
       "    <tr>\n",
       "      <th>0</th>\n",
       "      <td>01/03/2011</td>\n",
       "      <td>4.07</td>\n",
       "      <td>2,73</td>\n",
       "      <td>6.90</td>\n",
       "    </tr>\n",
       "    <tr>\n",
       "      <th>1</th>\n",
       "      <td>01/04/2011</td>\n",
       "      <td>4.14</td>\n",
       "      <td>2,73</td>\n",
       "      <td>7.09</td>\n",
       "    </tr>\n",
       "    <tr>\n",
       "      <th>2</th>\n",
       "      <td>01/05/2011</td>\n",
       "      <td>4.28</td>\n",
       "      <td>2,76</td>\n",
       "      <td>7.44</td>\n",
       "    </tr>\n",
       "    <tr>\n",
       "      <th>3</th>\n",
       "      <td>01/06/2011</td>\n",
       "      <td>4.25</td>\n",
       "      <td>2,74</td>\n",
       "      <td>7.38</td>\n",
       "    </tr>\n",
       "    <tr>\n",
       "      <th>4</th>\n",
       "      <td>01/07/2011</td>\n",
       "      <td>4.34</td>\n",
       "      <td>2,76</td>\n",
       "      <td>7.62</td>\n",
       "    </tr>\n",
       "    <tr>\n",
       "      <th>...</th>\n",
       "      <td>...</td>\n",
       "      <td>...</td>\n",
       "      <td>...</td>\n",
       "      <td>...</td>\n",
       "    </tr>\n",
       "    <tr>\n",
       "      <th>98</th>\n",
       "      <td>01/05/2019</td>\n",
       "      <td>3.54</td>\n",
       "      <td>2,24</td>\n",
       "      <td>7.27</td>\n",
       "    </tr>\n",
       "    <tr>\n",
       "      <th>99</th>\n",
       "      <td>01/06/2019</td>\n",
       "      <td>3.57</td>\n",
       "      <td>2,23</td>\n",
       "      <td>7.43</td>\n",
       "    </tr>\n",
       "    <tr>\n",
       "      <th>100</th>\n",
       "      <td>01/07/2019</td>\n",
       "      <td>3.59</td>\n",
       "      <td>2,23</td>\n",
       "      <td>7.52</td>\n",
       "    </tr>\n",
       "    <tr>\n",
       "      <th>101</th>\n",
       "      <td>01/08/2019</td>\n",
       "      <td>3.50</td>\n",
       "      <td>2,2</td>\n",
       "      <td>7.28</td>\n",
       "    </tr>\n",
       "    <tr>\n",
       "      <th>102</th>\n",
       "      <td>01/09/2019</td>\n",
       "      <td>3.60</td>\n",
       "      <td>2,26</td>\n",
       "      <td>7.49</td>\n",
       "    </tr>\n",
       "  </tbody>\n",
       "</table>\n",
       "<p>103 rows × 4 columns</p>\n",
       "</div>"
      ],
      "text/plain": [
       "           Data  CP Total CP Consignado  CP Não Consignado\n",
       "0    01/03/2011      4.07          2,73               6.90\n",
       "1    01/04/2011      4.14          2,73               7.09\n",
       "2    01/05/2011      4.28          2,76               7.44\n",
       "3    01/06/2011      4.25          2,74               7.38\n",
       "4    01/07/2011      4.34          2,76               7.62\n",
       "..          ...       ...           ...                ...\n",
       "98   01/05/2019      3.54          2,24               7.27\n",
       "99   01/06/2019      3.57          2,23               7.43\n",
       "100  01/07/2019      3.59          2,23               7.52\n",
       "101  01/08/2019      3.50           2,2               7.28\n",
       "102  01/09/2019      3.60          2,26               7.49\n",
       "\n",
       "[103 rows x 4 columns]"
      ]
     },
     "execution_count": 37,
     "metadata": {},
     "output_type": "execute_result"
    }
   ],
   "source": [
    "dataframe"
   ]
  },
  {
   "cell_type": "code",
   "execution_count": 38,
   "metadata": {},
   "outputs": [
    {
     "data": {
      "text/plain": [
       "<matplotlib.axes._subplots.AxesSubplot at 0xdc52860>"
      ]
     },
     "execution_count": 38,
     "metadata": {},
     "output_type": "execute_result"
    },
    {
     "data": {
      "image/png": "[encoded data removed]",
      "text/plain": [
       "<Figure size 432x288 with 1 Axes>"
      ]
     },
     "metadata": {
      "needs_background": "light"
     },
     "output_type": "display_data"
    }
   ],
   "source": [
    "dataframe.plot(kind=\"bar\",x=\"CP Total\",y=\"CP Não Consignado\")"
   ]
  },
  {
   "cell_type": "code",
   "execution_count": 39,
   "metadata": {},
   "outputs": [
    {
     "data": {
      "text/html": [
       "<div>\n",
       "<style scoped>\n",
       "    .dataframe tbody tr th:only-of-type {\n",
       "        vertical-align: middle;\n",
       "    }\n",
       "\n",
       "    .dataframe tbody tr th {\n",
       "        vertical-align: top;\n",
       "    }\n",
       "\n",
       "    .dataframe thead th {\n",
       "        text-align: right;\n",
       "    }\n",
       "</style>\n",
       "<table border=\"1\" class=\"dataframe\">\n",
       "  <thead>\n",
       "    <tr style=\"text-align: right;\">\n",
       "      <th></th>\n",
       "      <th>Data</th>\n",
       "      <th>CP Total</th>\n",
       "      <th>CP Consignado</th>\n",
       "      <th>CP Não Consignado</th>\n",
       "    </tr>\n",
       "  </thead>\n",
       "  <tbody>\n",
       "    <tr>\n",
       "      <th>0</th>\n",
       "      <td>01/03/2011</td>\n",
       "      <td>4.07</td>\n",
       "      <td>2,73</td>\n",
       "      <td>6.90</td>\n",
       "    </tr>\n",
       "    <tr>\n",
       "      <th>1</th>\n",
       "      <td>01/04/2011</td>\n",
       "      <td>4.14</td>\n",
       "      <td>2,73</td>\n",
       "      <td>7.09</td>\n",
       "    </tr>\n",
       "    <tr>\n",
       "      <th>2</th>\n",
       "      <td>01/05/2011</td>\n",
       "      <td>4.28</td>\n",
       "      <td>2,76</td>\n",
       "      <td>7.44</td>\n",
       "    </tr>\n",
       "    <tr>\n",
       "      <th>3</th>\n",
       "      <td>01/06/2011</td>\n",
       "      <td>4.25</td>\n",
       "      <td>2,74</td>\n",
       "      <td>7.38</td>\n",
       "    </tr>\n",
       "    <tr>\n",
       "      <th>4</th>\n",
       "      <td>01/07/2011</td>\n",
       "      <td>4.34</td>\n",
       "      <td>2,76</td>\n",
       "      <td>7.62</td>\n",
       "    </tr>\n",
       "    <tr>\n",
       "      <th>5</th>\n",
       "      <td>01/08/2011</td>\n",
       "      <td>4.43</td>\n",
       "      <td>2,76</td>\n",
       "      <td>7.92</td>\n",
       "    </tr>\n",
       "    <tr>\n",
       "      <th>6</th>\n",
       "      <td>01/09/2011</td>\n",
       "      <td>4.47</td>\n",
       "      <td>2,74</td>\n",
       "      <td>8.04</td>\n",
       "    </tr>\n",
       "    <tr>\n",
       "      <th>7</th>\n",
       "      <td>01/10/2011</td>\n",
       "      <td>4.61</td>\n",
       "      <td>2,83</td>\n",
       "      <td>8.26</td>\n",
       "    </tr>\n",
       "    <tr>\n",
       "      <th>8</th>\n",
       "      <td>01/11/2011</td>\n",
       "      <td>4.67</td>\n",
       "      <td>2,85</td>\n",
       "      <td>8.38</td>\n",
       "    </tr>\n",
       "    <tr>\n",
       "      <th>9</th>\n",
       "      <td>01/12/2011</td>\n",
       "      <td>4.75</td>\n",
       "      <td>2,85</td>\n",
       "      <td>8.51</td>\n",
       "    </tr>\n",
       "  </tbody>\n",
       "</table>\n",
       "</div>"
      ],
      "text/plain": [
       "         Data  CP Total CP Consignado  CP Não Consignado\n",
       "0  01/03/2011      4.07          2,73               6.90\n",
       "1  01/04/2011      4.14          2,73               7.09\n",
       "2  01/05/2011      4.28          2,76               7.44\n",
       "3  01/06/2011      4.25          2,74               7.38\n",
       "4  01/07/2011      4.34          2,76               7.62\n",
       "5  01/08/2011      4.43          2,76               7.92\n",
       "6  01/09/2011      4.47          2,74               8.04\n",
       "7  01/10/2011      4.61          2,83               8.26\n",
       "8  01/11/2011      4.67          2,85               8.38\n",
       "9  01/12/2011      4.75          2,85               8.51"
      ]
     },
     "execution_count": 39,
     "metadata": {},
     "output_type": "execute_result"
    }
   ],
   "source": [
    "df2 = dataframe.iloc[:10]\n",
    "df2"
   ]
  },
  {
   "cell_type": "code",
   "execution_count": 40,
   "metadata": {},
   "outputs": [
    {
     "data": {
      "text/plain": [
       "<matplotlib.axes._subplots.AxesSubplot at 0xf575ef0>"
      ]
     },
     "execution_count": 40,
     "metadata": {},
     "output_type": "execute_result"
    },
    {
     "data": {
      "image/png": "[encoded data removed]",
      "text/plain": [
       "<Figure size 432x288 with 1 Axes>"
      ]
     },
     "metadata": {
      "needs_background": "light"
     },
     "output_type": "display_data"
    }
   ],
   "source": [
    "df2.plot(kind=\"bar\",x=\"CP Total\",y=\"CP Não Consignado\")"
   ]
  },
  {
   "cell_type": "markdown",
   "metadata": {},
   "source": [
    "# Desafio\n",
    "\n",
    "Plote um gráfico -> Data X Credito pessoal"
   ]
  },
  {
   "cell_type": "code",
   "execution_count": 41,
   "metadata": {},
   "outputs": [],
   "source": [
    "dataframe[\"Data\"]= dataframe[\"Data\"].apply(pd.to_datetime)"
   ]
  },
  {
   "cell_type": "code",
   "execution_count": 42,
   "metadata": {},
   "outputs": [
    {
     "data": {
      "text/plain": [
       "Data                 datetime64[ns]\n",
       "CP Total                    float64\n",
       "CP Consignado                object\n",
       "CP Não Consignado           float64\n",
       "dtype: object"
      ]
     },
     "execution_count": 42,
     "metadata": {},
     "output_type": "execute_result"
    }
   ],
   "source": [
    "dataframe.dtypes"
   ]
  },
  {
   "cell_type": "code",
   "execution_count": 43,
   "metadata": {},
   "outputs": [
    {
     "data": {
      "text/html": [
       "<div>\n",
       "<style scoped>\n",
       "    .dataframe tbody tr th:only-of-type {\n",
       "        vertical-align: middle;\n",
       "    }\n",
       "\n",
       "    .dataframe tbody tr th {\n",
       "        vertical-align: top;\n",
       "    }\n",
       "\n",
       "    .dataframe thead th {\n",
       "        text-align: right;\n",
       "    }\n",
       "</style>\n",
       "<table border=\"1\" class=\"dataframe\">\n",
       "  <thead>\n",
       "    <tr style=\"text-align: right;\">\n",
       "      <th></th>\n",
       "      <th>Data</th>\n",
       "      <th>CP Total</th>\n",
       "      <th>CP Consignado</th>\n",
       "      <th>CP Não Consignado</th>\n",
       "    </tr>\n",
       "  </thead>\n",
       "  <tbody>\n",
       "    <tr>\n",
       "      <th>0</th>\n",
       "      <td>2011-01-03</td>\n",
       "      <td>4.07</td>\n",
       "      <td>2,73</td>\n",
       "      <td>6.90</td>\n",
       "    </tr>\n",
       "    <tr>\n",
       "      <th>1</th>\n",
       "      <td>2011-01-04</td>\n",
       "      <td>4.14</td>\n",
       "      <td>2,73</td>\n",
       "      <td>7.09</td>\n",
       "    </tr>\n",
       "    <tr>\n",
       "      <th>2</th>\n",
       "      <td>2011-01-05</td>\n",
       "      <td>4.28</td>\n",
       "      <td>2,76</td>\n",
       "      <td>7.44</td>\n",
       "    </tr>\n",
       "    <tr>\n",
       "      <th>3</th>\n",
       "      <td>2011-01-06</td>\n",
       "      <td>4.25</td>\n",
       "      <td>2,74</td>\n",
       "      <td>7.38</td>\n",
       "    </tr>\n",
       "    <tr>\n",
       "      <th>4</th>\n",
       "      <td>2011-01-07</td>\n",
       "      <td>4.34</td>\n",
       "      <td>2,76</td>\n",
       "      <td>7.62</td>\n",
       "    </tr>\n",
       "    <tr>\n",
       "      <th>...</th>\n",
       "      <td>...</td>\n",
       "      <td>...</td>\n",
       "      <td>...</td>\n",
       "      <td>...</td>\n",
       "    </tr>\n",
       "    <tr>\n",
       "      <th>98</th>\n",
       "      <td>2019-01-05</td>\n",
       "      <td>3.54</td>\n",
       "      <td>2,24</td>\n",
       "      <td>7.27</td>\n",
       "    </tr>\n",
       "    <tr>\n",
       "      <th>99</th>\n",
       "      <td>2019-01-06</td>\n",
       "      <td>3.57</td>\n",
       "      <td>2,23</td>\n",
       "      <td>7.43</td>\n",
       "    </tr>\n",
       "    <tr>\n",
       "      <th>100</th>\n",
       "      <td>2019-01-07</td>\n",
       "      <td>3.59</td>\n",
       "      <td>2,23</td>\n",
       "      <td>7.52</td>\n",
       "    </tr>\n",
       "    <tr>\n",
       "      <th>101</th>\n",
       "      <td>2019-01-08</td>\n",
       "      <td>3.50</td>\n",
       "      <td>2,2</td>\n",
       "      <td>7.28</td>\n",
       "    </tr>\n",
       "    <tr>\n",
       "      <th>102</th>\n",
       "      <td>2019-01-09</td>\n",
       "      <td>3.60</td>\n",
       "      <td>2,26</td>\n",
       "      <td>7.49</td>\n",
       "    </tr>\n",
       "  </tbody>\n",
       "</table>\n",
       "<p>103 rows × 4 columns</p>\n",
       "</div>"
      ],
      "text/plain": [
       "          Data  CP Total CP Consignado  CP Não Consignado\n",
       "0   2011-01-03      4.07          2,73               6.90\n",
       "1   2011-01-04      4.14          2,73               7.09\n",
       "2   2011-01-05      4.28          2,76               7.44\n",
       "3   2011-01-06      4.25          2,74               7.38\n",
       "4   2011-01-07      4.34          2,76               7.62\n",
       "..         ...       ...           ...                ...\n",
       "98  2019-01-05      3.54          2,24               7.27\n",
       "99  2019-01-06      3.57          2,23               7.43\n",
       "100 2019-01-07      3.59          2,23               7.52\n",
       "101 2019-01-08      3.50           2,2               7.28\n",
       "102 2019-01-09      3.60          2,26               7.49\n",
       "\n",
       "[103 rows x 4 columns]"
      ]
     },
     "execution_count": 43,
     "metadata": {},
     "output_type": "execute_result"
    }
   ],
   "source": [
    "dataframe"
   ]
  },
  {
   "cell_type": "code",
   "execution_count": 44,
   "metadata": {},
   "outputs": [
    {
     "data": {
      "text/plain": [
       "<matplotlib.axes._subplots.AxesSubplot at 0xf5e1b38>"
      ]
     },
     "execution_count": 44,
     "metadata": {},
     "output_type": "execute_result"
    },
    {
     "data": {
      "image/png": "[encoded data removed]",
      "text/plain": [
       "<Figure size 432x288 with 1 Axes>"
      ]
     },
     "metadata": {
      "needs_background": "light"
     },
     "output_type": "display_data"
    }
   ],
   "source": [
    "dataframe.plot(kind=\"bar\",x=\"Data\",y=\"CP Não Consignado\")"
   ]
  },
  {
   "cell_type": "code",
   "execution_count": 45,
   "metadata": {},
   "outputs": [
    {
     "data": {
      "text/plain": [
       "<matplotlib.axes._subplots.AxesSubplot at 0xf91e470>"
      ]
     },
     "execution_count": 45,
     "metadata": {},
     "output_type": "execute_result"
    },
    {
     "data": {
      "image/png": "[encoded data removed]",
      "text/plain": [
       "<Figure size 432x288 with 1 Axes>"
      ]
     },
     "metadata": {
      "needs_background": "light"
     },
     "output_type": "display_data"
    }
   ],
   "source": [
    "dataframe.plot(kind=\"line\",x=\"Data\",y=\"CP Não Consignado\", color='red')"
   ]
  },
  {
   "cell_type": "markdown",
   "metadata": {},
   "source": [
    "# Utilizando Plotly"
   ]
  },
  {
   "cell_type": "code",
   "execution_count": 46,
   "metadata": {},
   "outputs": [
    {
     "name": "stdout",
     "output_type": "stream",
     "text": [
      "Requirement already satisfied: plotly in c:\\programdata\\anaconda3\\lib\\site-packages (4.3.0)\n",
      "Requirement already satisfied: retrying>=1.3.3 in c:\\programdata\\anaconda3\\lib\\site-packages (from plotly) (1.3.3)\n",
      "Requirement already satisfied: six in c:\\programdata\\anaconda3\\lib\\site-packages (from plotly) (1.13.0)\n",
      "Note: you may need to restart the kernel to use updated packages.\n"
     ]
    }
   ],
   "source": [
    "pip install plotly"
   ]
  },
  {
   "cell_type": "code",
   "execution_count": null,
   "metadata": {},
   "outputs": [],
   "source": []
  }
 ],
 "metadata": {
  "kernelspec": {
   "display_name": "Python 3",
   "language": "python",
   "name": "python3"
  },
  "language_info": {
   "codemirror_mode": {
    "name": "ipython",
    "version": 3
   },
   "file_extension": ".py",
   "mimetype": "text/x-python",
   "name": "python",
   "nbconvert_exporter": "python",
   "pygments_lexer": "ipython3",
   "version": "3.7.3"
  }
 },
 "nbformat": 4,
 "nbformat_minor": 2
}
