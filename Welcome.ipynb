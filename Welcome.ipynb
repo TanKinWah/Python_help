{
 "cells": [
  {
   "cell_type": "markdown",
   "metadata": {},
   "source": [
    "# Bem vindo ao Workshop - Python\n",
    "\n",
    "### Se é a primeira vez que você usa o Jupyter notebook, seja bem-vindo ao ambiente de codificação.\n",
    "\n",
    "\n",
    "Para começar, tente executar a célula de código abaixo (pressionando o botão ► RUN ou clicando na célula e pressionando ctrl + enter no teclado)."
   ]
  },
  {
   "cell_type": "code",
   "execution_count": null,
   "metadata": {},
   "outputs": [],
   "source": [
    "print (\"Parabéns, tudo pronto para começarmos dia 27/11/19!!\")"
   ]
  },
  {
   "cell_type": "markdown",
   "metadata": {},
   "source": [
    "###### Se conseguiu compilar o código acima e está super ansioso - acesse  \n",
    "*Github:* [Acessar PDF](https://github.com/TanKinWah/Python_help/blob/master/01%20-%20Algoritmos%20e%20Programa%C3%A7%C3%A3o%20em%20Linguagem%20Python.pdf)"
   ]
  },
  {
   "cell_type": "code",
   "execution_count": null,
   "metadata": {},
   "outputs": [],
   "source": []
  }
 ],
 "metadata": {
  "kernelspec": {
   "display_name": "Python 3",
   "language": "python",
   "name": "python3"
  },
  "language_info": {
   "codemirror_mode": {
    "name": "ipython",
    "version": 3
   },
   "file_extension": ".py",
   "mimetype": "text/x-python",
   "name": "python",
   "nbconvert_exporter": "python",
   "pygments_lexer": "ipython3",
   "version": "3.7.3"
  }
 },
 "nbformat": 4,
 "nbformat_minor": 2
}
