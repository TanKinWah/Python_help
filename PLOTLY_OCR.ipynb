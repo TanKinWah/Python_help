{
 "cells": [
  {
   "cell_type": "code",
   "execution_count": null,
   "metadata": {},
   "outputs": [],
   "source": [
    "pip install plotly"
   ]
  },
   "cells": [
  {
   "cell_type": "code",
   "execution_count": null,
   "metadata": {},
   "outputs": [],
   "source": [
    "pip install pandas"
   ]
  },
  {
   "cell_type": "code",
   "execution_count": null,
   "metadata": {},
   "outputs": [],
   "source": [
    "#importanto a biblioteca plotly\n",
    "import plotly.express as px\n",
    "import pandas as pd\n",
    "\n",
    "#Recebendo os dados via cloud \n",
    "uri = \"https://raw.githubusercontent.com/TanKinWah/Arquivos_python/master/Inadimplencia_cc.csv\"\n",
    "\n",
    "#tratamento do csv\n",
    "df = pd.read_csv(uri, encoding='iso-8859-1', delimiter = ';')\n",
    "\n",
    "#tratamento dos dados\n",
    "df[\"Credito pessoal total\"]= df[\"Credito pessoal total\"].str.replace(',', \".\").astype(str)\n",
    "df[\"Credito pessoal consignado\"]= df[\"Credito pessoal consignado\"].str.replace(',', \".\").astype(float)\n",
    "df[\"Credito pessoal não consignado\"]= df[\"Credito pessoal não consignado\"].str.replace(',', \".\").astype(float)\n",
    "df[\"data\"]= df[\"data\"].apply(pd.to_datetime)\n",
    "\n",
    "fig = px.line(df, x='data', y='Credito pessoal total')\n",
    "fig.show()\n"
   ]
  },
  {
   "cell_type": "code",
   "execution_count": null,
   "metadata": {},
   "outputs": [],
   "source": [
    "import plotly.express as px\n",
    "\n",
    "import pandas as pd\n",
    "fig = px.line(df, x='data', y='Credito pessoal total')\n",
    "fig.show()"
   ]
  },
  {
   "cell_type": "code",
   "execution_count": null,
   "metadata": {},
   "outputs": [],
   "source": [
    "import plotly.express as px\n",
    "#Transformando em ano\n",
    "\n",
    "#Recebendo os dados via cloud \n",
    "uri = \"https://raw.githubusercontent.com/TanKinWah/Arquivos_python/master/Inadimplencia_cc.csv\"\n",
    "\n",
    "#tratamento do csv\n",
    "df = pd.read_csv(uri, encoding='iso-8859-1', delimiter = ';')\n",
    "\n",
    "#tratamento dos dados\n",
    "df[\"Credito pessoal total\"]= df[\"Credito pessoal total\"].str.replace(',', \".\").astype(str)\n",
    "df[\"Credito pessoal consignado\"]= df[\"Credito pessoal consignado\"].str.replace(',', \".\").astype(float)\n",
    "df[\"Credito pessoal não consignado\"]= df[\"Credito pessoal não consignado\"].str.replace(',', \".\").astype(float)\n",
    "df[\"data\"]= df[\"data\"].apply(pd.to_datetime)\n",
    "df[\"data\"]= (df['data']).dt.year\n",
    "#Plotar boxplot\n",
    "fig = px.box(df, x=\"data\", y=\"Credito pessoal total\", points=\"all\")\n",
    "fig.show()"
   ]
  },
  {
   "cell_type": "markdown",
   "metadata": {},
   "source": [
    "# Graficos de dados do Plotly"
   ]
  },
  {
   "cell_type": "code",
   "execution_count": null,
   "metadata": {},
   "outputs": [],
   "source": [
    "import plotly.express as px\n",
    "tips = px.data.tips()\n",
    "fig = px.histogram(tips, x=\"total_bill\", y=\"tip\", color=\"sex\", marginal=\"rug\",\n",
    "                   hover_data=tips.columns)\n",
    "fig.show()"
   ]
  },
  {
   "cell_type": "code",
   "execution_count": null,
   "metadata": {},
   "outputs": [],
   "source": [
    "import plotly.graph_objects as go\n",
    "\n",
    "import pandas as pd\n",
    "\n",
    "# Read data from a csv\n",
    "z_data = pd.read_csv('https://raw.githubusercontent.com/plotly/datasets/master/api_docs/mt_bruno_elevation.csv')\n",
    "\n",
    "fig = go.Figure(data=[go.Surface(z=z_data.values)])\n",
    "\n",
    "fig.update_layout(title='Mt Bruno Elevation', autosize=False,\n",
    "                  width=500, height=500,\n",
    "                  margin=dict(l=65, r=50, b=65, t=90))\n",
    "\n",
    "fig.show()"
   ]
  },
  {
   "cell_type": "markdown",
   "metadata": {},
   "source": [
    "# OCR\n"
   ]
  },
  {
   "cell_type": "code",
   "execution_count": null,
   "metadata": {},
   "outputs": [],
   "source": [
    "pip install pytesseract"
   ]
  },
  {
   "cell_type": "code",
   "execution_count": null,
   "metadata": {},
   "outputs": [],
   "source": [
    "import pytesseract as ocr\n",
    "ocr.pytesseract.tesseract_cmd = r'C:\\Users\\tan_wah\\AppData\\Local\\Tesseract-OCR\\tesseract.exe'\n",
    "from PIL import Image\n",
    "from io import BytesIO\n",
    "import requests\n",
    "\n",
    "\n",
    "url=\"https://www.abbyy.com/media/15518/passport.png\"\n",
    "response = requests.get(url)\n",
    "img = Image.open(BytesIO(response.content))\n",
    "img\n"
   ]
  },
  {
   "cell_type": "code",
   "execution_count": null,
   "metadata": {},
   "outputs": [],
   "source": [
    "import pytesseract as ocr\n",
    "ocr.pytesseract.tesseract_cmd = r'C:\\Program Files\\Tesseract-OCR\\tesseract.exe'\n",
    "from PIL import Image\n",
    "from io import BytesIO\n",
    "import requests\n",
    "\n",
    "url=\"https://www.abbyy.com/media/15518/passport.png\"\n",
    "response = requests.get(url)\n",
    "img = Image.open(BytesIO(response.content))\n",
    "\n",
    "phrase = ocr.image_to_string(img,lang='por')\n",
    "\n",
    "print(phrase)"
   ]
  }
 ],
 "metadata": {
  "kernelspec": {
   "display_name": "Python 3",
   "language": "python",
   "name": "python3"
  },
  "language_info": {
   "codemirror_mode": {
    "name": "ipython",
    "version": 3
   },
   "file_extension": ".py",
   "mimetype": "text/x-python",
   "name": "python",
   "nbconvert_exporter": "python",
   "pygments_lexer": "ipython3",
   "version": "3.7.3"
  }
 },
 "nbformat": 4,
 "nbformat_minor": 2
}
